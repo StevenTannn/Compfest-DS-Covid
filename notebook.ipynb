{
 "cells": [
  {
   "cell_type": "code",
   "execution_count": 1,
   "metadata": {},
   "outputs": [],
   "source": [
    "import pandas as pd\n",
    "import numpy as np\n",
    "import matplotlib.pyplot as plt\n",
    "import seaborn as sns\n",
    "import geopandas as gpd"
   ]
  },
  {
   "cell_type": "code",
   "execution_count": null,
   "metadata": {},
   "outputs": [],
   "source": [
    "data_filename = \"Daily Update Data Agregat Covid-19 Jakarta.xlsx\""
   ]
  },
  {
   "cell_type": "code",
   "execution_count": null,
   "metadata": {},
   "outputs": [],
   "source": [
    "dataset = []"
   ]
  },
  {
   "cell_type": "code",
   "execution_count": null,
   "metadata": {},
   "outputs": [],
   "source": [
    "for i in range (0,10): \n",
    "    sheet = pd.read_excel(data_filename,sheet_name=i,engine=\"openpyxl\")\n",
    "    dataset.append(sheet)"
   ]
  },
  {
   "cell_type": "markdown",
   "metadata": {},
   "source": [
    "# Dataset variable information \n",
    "- **DJ** = Data Jakarta\n",
    "- **DIJ** = Data Indonesia and Jakarta\n",
    "- **Suspek** = Data Suspek\n",
    "- **RDT ab** = Data  RDT ab\n",
    "- **RDT ag** = Data RDT ag\n",
    "- **HL** = Data Hasil Lab\n",
    "- **V** = Data vaksinasi\n",
    "- **P** = Data pemakaman\n",
    "- **VW** = Data vaksinasi wilayah\n",
    "- **DVWI** = Daily vaksinasi wilayah"
   ]
  },
  {
   "cell_type": "code",
   "execution_count": null,
   "metadata": {
    "scrolled": true
   },
   "outputs": [],
   "source": [
    "df_DJ = dataset[0]\n",
    "df_DIJ = dataset[1]\n",
    "df_Suspek = dataset[2]\n",
    "df_RDTab = dataset[3]\n",
    "df_RDTag = dataset[4]\n",
    "df_HL = dataset[5]\n",
    "df_V = dataset[6]\n",
    "df_P = dataset[7]\n",
    "df_VW = dataset[8]\n",
    "df_DVW = dataset[9]"
   ]
  },
  {
   "cell_type": "code",
   "execution_count": null,
   "metadata": {
    "scrolled": true
   },
   "outputs": [],
   "source": [
    "idx = 0 \n",
    "for i in dataset : \n",
    "    print(f\"dataset ke dari excel {idx}: \")\n",
    "    print(i.info())\n",
    "    print()\n",
    "    idx+=1"
   ]
  },
  {
   "cell_type": "markdown",
   "metadata": {},
   "source": [
    "### Cleaning and re-arange Vaksin dataset"
   ]
  },
  {
   "cell_type": "code",
   "execution_count": null,
   "metadata": {
    "scrolled": true
   },
   "outputs": [],
   "source": [
    "df_V.fillna(\"\",inplace=True)"
   ]
  },
  {
   "cell_type": "code",
   "execution_count": null,
   "metadata": {
    "scrolled": true
   },
   "outputs": [],
   "source": [
    "df_V.columns = df_V.iloc[1] + \" | \" + df_V.iloc[2] + \" | \" + df_V.iloc[3]"
   ]
  },
  {
   "cell_type": "code",
   "execution_count": null,
   "metadata": {
    "scrolled": true
   },
   "outputs": [],
   "source": [
    "df_V.drop([0,1,2,3],axis=0,inplace=True)"
   ]
  },
  {
   "cell_type": "code",
   "execution_count": null,
   "metadata": {},
   "outputs": [],
   "source": [
    "df_V.rename(columns={df_V.columns[0] : \"Tanggal\"},inplace=True)"
   ]
  },
  {
   "cell_type": "code",
   "execution_count": null,
   "metadata": {
    "scrolled": true
   },
   "outputs": [],
   "source": [
    "df_V.head()"
   ]
  },
  {
   "cell_type": "code",
   "execution_count": null,
   "metadata": {},
   "outputs": [],
   "source": [
    "idx = 0 \n",
    "for i in dataset : \n",
    "    i.dropna(axis=1, how='all',inplace=True)\n",
    "    print(f\"dataset ke dari excel {idx}: \")\n",
    "    print(i.info())\n",
    "    idx+=1"
   ]
  },
  {
   "cell_type": "code",
   "execution_count": null,
   "metadata": {},
   "outputs": [],
   "source": [
    "df_RDTag = df_RDTag.rename(columns={\"Tgl\": \"Tanggal\"})"
   ]
  },
  {
   "cell_type": "code",
   "execution_count": null,
   "metadata": {},
   "outputs": [],
   "source": [
    "df_RDTab = df_RDTab.drop(['catatan:'], axis=1)"
   ]
  },
  {
   "cell_type": "markdown",
   "metadata": {},
   "source": [
    "### Data Jakarta"
   ]
  },
  {
   "cell_type": "code",
   "execution_count": null,
   "metadata": {},
   "outputs": [],
   "source": [
    "df_DJ.head()"
   ]
  },
  {
   "cell_type": "code",
   "execution_count": null,
   "metadata": {},
   "outputs": [],
   "source": [
    "df_DJ.tail()"
   ]
  },
  {
   "cell_type": "code",
   "execution_count": null,
   "metadata": {},
   "outputs": [],
   "source": [
    "df_DJ['Positif Harian'].describe()"
   ]
  },
  {
   "cell_type": "code",
   "execution_count": null,
   "metadata": {},
   "outputs": [],
   "source": [
    "df_DJ['Positif Harian'].median()"
   ]
  },
  {
   "cell_type": "code",
   "execution_count": null,
   "metadata": {},
   "outputs": [],
   "source": [
    "df_DJ['Positif Harian'].mode()"
   ]
  },
  {
   "cell_type": "code",
   "execution_count": null,
   "metadata": {},
   "outputs": [],
   "source": [
    "green_diamond = dict(markerfacecolor='g', marker='D')\n",
    "plt.boxplot(df_DJ['Positif Harian'],flierprops=green_diamond,vert=False)\n",
    "plt.yticks([1], ['Positif Harian'])"
   ]
  },
  {
   "cell_type": "code",
   "execution_count": null,
   "metadata": {},
   "outputs": [],
   "source": [
    "def make_labels(ax, boxplot):\n",
    "\n",
    "    # Grab the relevant Line2D instances from the boxplot dictionary\n",
    "    iqr = boxplot['boxes'][0]\n",
    "    caps = boxplot['caps']\n",
    "    med = boxplot['medians'][0]\n",
    "\n",
    "    # The x position of the median line\n",
    "    xpos = med.get_xdata()\n",
    "\n",
    "    # Lets make the text have a horizontal offset which is some \n",
    "    # fraction of the width of the box\n",
    "    xoff = 0.10 * (xpos[1] - xpos[0])\n",
    "\n",
    "    # The x position of the labels\n",
    "    xlabel = xpos[1] + xoff\n",
    "\n",
    "    # The median is the y-position of the median line\n",
    "    median = med.get_ydata()[1]\n",
    "\n",
    "    # The 25th and 75th percentiles are found from the\n",
    "    # top and bottom (max and min) of the box\n",
    "    pc25 = iqr.get_ydata().min()\n",
    "    pc75 = iqr.get_ydata().max()\n",
    "\n",
    "    # The caps give the vertical position of the ends of the whiskers\n",
    "    capbottom = caps[0].get_ydata()[0]\n",
    "    captop = caps[1].get_ydata()[0]\n",
    "\n",
    "    # Make some labels on the figure using the values derived above\n",
    "    ax.text(xlabel, median,\n",
    "            'Median = {:6.3g}'.format(median), va='center')\n",
    "    ax.text(xlabel, pc25,\n",
    "            '25th percentile = {:6.3g}'.format(pc25), va='center')\n",
    "    ax.text(xlabel, pc75,\n",
    "            '75th percentile = {:6}'.format(pc75), va='center')\n",
    "    ax.text(xlabel, capbottom,\n",
    "            'Lower Bound = {:6.3g}'.format(capbottom), va='center')\n",
    "    ax.text(xlabel, captop,\n",
    "            'Upper Bound = {:6}'.format(captop), va='center')\n",
    "\n",
    "# Make the figure\n",
    "red_diamond = dict(markerfacecolor='r', marker='D')\n",
    "fig3, ax3 = plt.subplots()\n",
    "ax3.set_title('Positif Harian BoxPlot')\n",
    "\n",
    "# Create the boxplot and store the resulting python dictionary\n",
    "my_boxes = ax3.boxplot(df_DJ['Positif Harian'], showfliers=False)\n",
    "\n",
    "# Call the function to make labels\n",
    "make_labels(ax3, my_boxes)\n",
    "\n",
    "plt.show()"
   ]
  },
  {
   "cell_type": "code",
   "execution_count": null,
   "metadata": {
    "scrolled": true
   },
   "outputs": [],
   "source": [
    "df_DJ['Positif Harian'] = sorted(df_DJ['Positif Harian'])\n",
    "q1, q3= np.percentile(df_DJ['Positif Harian'],[25,75])\n",
    "iqr=q3-q1\n",
    "lower_bound = q1 -(1.5 * iqr) \n",
    "upper_bound = q3 +(1.5 * iqr) \n",
    "print(\"Jumlah Outlier\",df_DJ[\"Positif Harian\"][(df_DJ[\"Positif Harian\"] < lower_bound) | (df_DJ[\"Positif Harian\"] > upper_bound)].count())\n"
   ]
  },
  {
   "cell_type": "code",
   "execution_count": null,
   "metadata": {},
   "outputs": [],
   "source": [
    "df_RD = df_RDTab.merge(df_RDTag, how='inner', on='Tanggal')"
   ]
  },
  {
   "cell_type": "code",
   "execution_count": null,
   "metadata": {},
   "outputs": [],
   "source": [
    "df_Coor = df_RD.merge(df_DJ, how='inner', on='Tanggal')"
   ]
  },
  {
   "cell_type": "code",
   "execution_count": null,
   "metadata": {},
   "outputs": [],
   "source": [
    "df_Coor.dropna(axis=1, how='all',inplace=True)"
   ]
  },
  {
   "cell_type": "code",
   "execution_count": null,
   "metadata": {},
   "outputs": [],
   "source": [
    "df_Coor.columns"
   ]
  },
  {
   "cell_type": "code",
   "execution_count": null,
   "metadata": {},
   "outputs": [],
   "source": [
    "corr = df_Coor.corr()"
   ]
  },
  {
   "cell_type": "code",
   "execution_count": null,
   "metadata": {},
   "outputs": [],
   "source": [
    "plt.figure(figsize=(12,10))\n",
    "sns.heatmap(corr, annot=True, cmap=plt.cm.Reds)\n",
    "plt.show()"
   ]
  },
  {
   "cell_type": "code",
   "execution_count": null,
   "metadata": {
    "scrolled": true
   },
   "outputs": [],
   "source": [
    "cor_target = abs(corr[\"Positif Harian\"])\n",
    "relevant_features = cor_target[cor_target>0.95]\n",
    "relevant_features"
   ]
  },
  {
   "cell_type": "code",
   "execution_count": null,
   "metadata": {},
   "outputs": [],
   "source": [
    "print(df_Coor[[\"NAR Positif\",\"Positif Kumulatif\"]].corr())\n",
    "print(\"\")"
   ]
  },
  {
   "cell_type": "markdown",
   "metadata": {},
   "source": [
    "#### Korelasi yang diambil NAR POSITIF TERHADAP POSITIF HARIAN --> KORELASINYA MAKIN TINGGINYA ANGKA TEST ANTIGEN MAKA MAKIN TINGGI KASUS POSITIF YANG TERJADI"
   ]
  },
  {
   "cell_type": "code",
   "execution_count": null,
   "metadata": {},
   "outputs": [],
   "source": [
    "df_VW.columns = df_VW.iloc[0]"
   ]
  },
  {
   "cell_type": "code",
   "execution_count": null,
   "metadata": {},
   "outputs": [],
   "source": [
    "df_VW = df_VW.drop([0])\n",
    "df_VW = df_VW.dropna(how='all')"
   ]
  },
  {
   "cell_type": "code",
   "execution_count": null,
   "metadata": {},
   "outputs": [],
   "source": [
    "df_DVW = df_DVW.drop(['Unnamed: 3', 'Keterangan'], axis=1)"
   ]
  },
  {
   "cell_type": "code",
   "execution_count": null,
   "metadata": {},
   "outputs": [],
   "source": [
    "df_VW = df_VW.groupby(df_VW.columns, axis=1).sum()"
   ]
  },
  {
   "cell_type": "code",
   "execution_count": null,
   "metadata": {},
   "outputs": [],
   "source": [
    "df_VW = df_VW[df_VW.columns.drop(list(df_VW.filter(regex='Keterangan')))]"
   ]
  },
  {
   "cell_type": "code",
   "execution_count": null,
   "metadata": {},
   "outputs": [],
   "source": [
    "df_VW['Cakupan Suntik 1'] = df_VW.iloc[:, :10].sum(axis=1)"
   ]
  },
  {
   "cell_type": "code",
   "execution_count": null,
   "metadata": {},
   "outputs": [],
   "source": [
    "df_VW.columns"
   ]
  },
  {
   "cell_type": "code",
   "execution_count": null,
   "metadata": {},
   "outputs": [],
   "source": [
    "df_VW['Cakupan Suntik 2'] = df_VW.iloc[:, 10:-4].sum(axis=1)"
   ]
  },
  {
   "cell_type": "code",
   "execution_count": null,
   "metadata": {},
   "outputs": [],
   "source": [
    "df_VW.groupby(['Kota / Kabupaten']).sum().reset_index().iloc[:,[0,1,11]]"
   ]
  },
  {
   "cell_type": "code",
   "execution_count": 1,
   "metadata": {
    "scrolled": true
   },
   "outputs": [
    {
     "ename": "NameError",
     "evalue": "name 'gpd' is not defined",
     "output_type": "error",
     "traceback": [
      "\u001b[0;31m---------------------------------------------------------------------------\u001b[0m",
      "\u001b[0;31mNameError\u001b[0m                                 Traceback (most recent call last)",
      "\u001b[0;32m<ipython-input-1-aae3780c34bd>\u001b[0m in \u001b[0;36m<module>\u001b[0;34m\u001b[0m\n\u001b[1;32m      1\u001b[0m \u001b[0mfile\u001b[0m \u001b[0;34m=\u001b[0m \u001b[0;34m'./gadm36_IDN_1.shp'\u001b[0m\u001b[0;34m\u001b[0m\u001b[0;34m\u001b[0m\u001b[0m\n\u001b[0;32m----> 2\u001b[0;31m \u001b[0mdf_geo\u001b[0m \u001b[0;34m=\u001b[0m \u001b[0mgpd\u001b[0m\u001b[0;34m.\u001b[0m\u001b[0mread_file\u001b[0m\u001b[0;34m(\u001b[0m\u001b[0mfile\u001b[0m\u001b[0;34m)\u001b[0m\u001b[0;34m\u001b[0m\u001b[0;34m\u001b[0m\u001b[0m\n\u001b[0m\u001b[1;32m      3\u001b[0m \u001b[0mdisplay\u001b[0m\u001b[0;34m(\u001b[0m\u001b[0mdf_geo\u001b[0m\u001b[0;34m.\u001b[0m\u001b[0mhead\u001b[0m\u001b[0;34m(\u001b[0m\u001b[0;34m)\u001b[0m\u001b[0;34m)\u001b[0m\u001b[0;34m\u001b[0m\u001b[0;34m\u001b[0m\u001b[0m\n",
      "\u001b[0;31mNameError\u001b[0m: name 'gpd' is not defined"
     ]
    }
   ],
   "source": [
    "file = './gadm36_IDN_1.shp'\n",
    "df_geo = gpd.read_file(file)\n",
    "display(df_geo.head())"
   ]
  },
  {
   "cell_type": "code",
   "execution_count": null,
   "metadata": {},
   "outputs": [],
   "source": []
  }
 ],
 "metadata": {
  "kernelspec": {
   "display_name": "Python 3",
   "language": "python",
   "name": "python3"
  },
  "language_info": {
   "codemirror_mode": {
    "name": "ipython",
    "version": 3
   },
   "file_extension": ".py",
   "mimetype": "text/x-python",
   "name": "python",
   "nbconvert_exporter": "python",
   "pygments_lexer": "ipython3",
   "version": "3.9.6"
  }
 },
 "nbformat": 4,
 "nbformat_minor": 4
}
